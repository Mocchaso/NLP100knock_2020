{
 "cells": [
  {
   "cell_type": "markdown",
   "metadata": {},
   "source": [
    "# 第4章: 形態素解析\n",
    "夏目漱石の小説『吾輩は猫である』の文章（[neko.txt](https://nlp100.github.io/data/neko.txt)）をMeCabを使って形態素解析し，その結果をneko.txt.mecabというファイルに保存せよ．このファイルを用いて，以下の問に対応するプログラムを実装せよ．\n",
    "\n",
    "なお，問題37, 38, 39は[matplotlib](http://matplotlib.org/)もしくは[Gnuplot](http://www.gnuplot.info/)を用いるとよい．"
   ]
  },
  {
   "cell_type": "code",
   "execution_count": 1,
   "metadata": {},
   "outputs": [],
   "source": [
    "# 小説内の文章を解析するので、新語辞書ではなくデフォルト辞書を明示的に指定\n",
    "!mecab -o neko.txt.mecab neko.txt -d /var/lib/mecab/dic/debian"
   ]
  },
  {
   "cell_type": "markdown",
   "metadata": {},
   "source": [
    "## 30. 形態素解析結果の読み込み\n",
    "形態素解析結果（neko.txt.mecab）を読み込むプログラムを実装せよ．ただし，各形態素は表層形（surface），基本形（base），品詞（pos），品詞細分類1（pos1）をキーとするマッピング型に格納し，1文を形態素（マッピング型）のリストとして表現せよ．第4章の残りの問題では，ここで作ったプログラムを活用せよ．"
   ]
  },
  {
   "cell_type": "code",
   "execution_count": 2,
   "metadata": {},
   "outputs": [],
   "source": [
    "def load_analyzed_results():\n",
    "    analyzed_results = [] # 文章全体の形態素解析結果\n",
    "    morphemes = [] # 1文単位の形態素解析結果\n",
    "    with open('neko.txt.mecab', 'r', encoding='utf8') as f:\n",
    "        for analyzed_result in f:\n",
    "            if analyzed_result == 'EOS\\n':\n",
    "                # 文末: その1文の形態素解析結果を丸ごと記録\n",
    "                analyzed_results.append(morphemes)\n",
    "                morphemes = []\n",
    "                continue\n",
    "            \n",
    "            analyzed_detail = analyzed_result.split('\\t')\n",
    "            if analyzed_detail[0] in ('', '\\n'):\n",
    "                # 解析対象が空文字や改行文字 ... スキップ\n",
    "                continue\n",
    "            \n",
    "            feature = analyzed_detail[1].split(',')\n",
    "            morpheme = {\n",
    "                'surface': analyzed_detail[0],\n",
    "                'base': feature[6],\n",
    "                'pos': feature[0],\n",
    "                'pos1': feature[1]\n",
    "            }\n",
    "            # 文中: 1文単位のリストに、形態素解析結果を記録\n",
    "            morphemes.append(morpheme)\n",
    "    return analyzed_results\n"
   ]
  },
  {
   "cell_type": "markdown",
   "metadata": {},
   "source": [
    "## 31. 動詞\n",
    "動詞の表層形をすべて抽出せよ．"
   ]
  },
  {
   "cell_type": "code",
   "execution_count": 3,
   "metadata": {},
   "outputs": [
    {
     "name": "stdout",
     "output_type": "stream",
     "text": [
      "num: 3893\n",
      "召し上がら\n",
      "癒す\n",
      "入り込ん\n",
      "取り極め\n",
      "放し\n",
      "上ら\n",
      "思いつい\n",
      "扱が\n",
      "試みよ\n",
      "許さ\n"
     ]
    }
   ],
   "source": [
    "analyzed_results = load_analyzed_results()\n",
    "verb_surfaces = {\n",
    "    morpheme['surface'] \\\n",
    "    for analyzed_sentence in analyzed_results \\\n",
    "    for morpheme in analyzed_sentence \\\n",
    "    if morpheme['pos'] == '動詞'\n",
    "}\n",
    "\n",
    "print('num: {}'.format(len(verb_surfaces)))\n",
    "for surface in list(verb_surfaces)[:10]:\n",
    "    print(surface)\n",
    "\n",
    "with open('output/q31.txt', 'w', encoding='utf8') as f:\n",
    "    f.write('\\n'.join(verb_surfaces))"
   ]
  },
  {
   "cell_type": "markdown",
   "metadata": {},
   "source": [
    "## 32. 動詞の原形\n",
    "動詞の原形をすべて抽出せよ．"
   ]
  },
  {
   "cell_type": "code",
   "execution_count": 4,
   "metadata": {},
   "outputs": [
    {
     "name": "stdout",
     "output_type": "stream",
     "text": [
      "num: 2300\n",
      "縛り付ける\n",
      "癒す\n",
      "はぐる\n",
      "仰せる\n",
      "聞き糺す\n",
      "叩き上げる\n",
      "凋む\n",
      "砕ける\n",
      "まう\n",
      "娶る\n"
     ]
    }
   ],
   "source": [
    "analyzed_results = load_analyzed_results()\n",
    "verb_bases = {\n",
    "    morpheme['base'] \\\n",
    "    for analyzed_sentence in analyzed_results \\\n",
    "    for morpheme in analyzed_sentence \\\n",
    "    if morpheme['pos'] == '動詞'\n",
    "}\n",
    "\n",
    "print('num: {}'.format(len(verb_bases)))\n",
    "for base in list(verb_bases)[:10]:\n",
    "    print(base)\n",
    "\n",
    "with open('output/q32.txt', 'w', encoding='utf8') as f:\n",
    "    f.write('\\n'.join(verb_bases))"
   ]
  },
  {
   "cell_type": "markdown",
   "metadata": {},
   "source": [
    "## 33. 「AのB」\n",
    "2つの名詞が「の」で連結されている名詞句を抽出せよ．"
   ]
  },
  {
   "cell_type": "code",
   "execution_count": 5,
   "metadata": {},
   "outputs": [
    {
     "name": "stdout",
     "output_type": "stream",
     "text": [
      "num: 4924\n",
      "さの三\n",
      "近くの生徒\n",
      "尊敬の度\n",
      "夫婦の関係\n",
      "自分の勝手\n",
      "主客の対話\n",
      "何の苦\n",
      "坊主の寝言\n",
      "本の上\n",
      "登場の人物\n"
     ]
    }
   ],
   "source": [
    "analyzed_results = load_analyzed_results()\n",
    "noun_clauses = {\n",
    "    analyzed_sentence[i - 1]['surface'] + analyzed_sentence[i]['surface'] + analyzed_sentence[i + 1]['surface'] \\\n",
    "    for analyzed_sentence in analyzed_results \\\n",
    "    for i in range(1, len(analyzed_sentence) -1) \\\n",
    "    if analyzed_sentence[i - 1]['pos'] == '名詞' \\\n",
    "    and analyzed_sentence[i]['surface'] == 'の' \\\n",
    "    and analyzed_sentence[i + 1]['pos'] == '名詞'\n",
    "}\n",
    "\n",
    "print('num: {}'.format(len(noun_clauses)))\n",
    "for noun_clause in list(noun_clauses)[:10]:\n",
    "    print(noun_clause)\n",
    "\n",
    "with open('output/q33.txt', 'w', encoding='utf8') as f:\n",
    "    f.write('\\n'.join(verb_bases))"
   ]
  },
  {
   "cell_type": "markdown",
   "metadata": {},
   "source": [
    "## 34. 名詞の連接\n",
    "名詞の連接（連続して出現する名詞）を最長一致で抽出せよ．"
   ]
  },
  {
   "cell_type": "code",
   "execution_count": 6,
   "metadata": {},
   "outputs": [
    {
     "name": "stdout",
     "output_type": "stream",
     "text": [
      "num: 4454\n",
      "一たび流し\n",
      "談判不調\n",
      "芋坂\n",
      "吾輩ひそか\n",
      "西洋手拭\n",
      "天然居士噫\n",
      "夏さん\n",
      "御座候本書\n",
      "金田令夫人\n",
      "八十\n"
     ]
    }
   ],
   "source": [
    "analyzed_results = load_analyzed_results()\n",
    "successive_nouns = set()\n",
    "for analyzed_sentence in analyzed_results:\n",
    "    successive_noun = ''\n",
    "    connected_num = 0\n",
    "    for morpheme in analyzed_sentence:\n",
    "        if morpheme['pos'] == '名詞':\n",
    "            successive_noun += morpheme['surface']\n",
    "            connected_num += 1\n",
    "        elif connected_num >= 2:\n",
    "            successive_nouns.add(successive_noun)\n",
    "            successive_noun = ''\n",
    "            connected_num = 0\n",
    "        else:\n",
    "            successive_noun = ''\n",
    "            connected_num = 0\n",
    "\n",
    "print('num: {}'.format(len(successive_nouns)))\n",
    "for successive_noun in list(successive_nouns)[:10]:\n",
    "    print(successive_noun)\n",
    "\n",
    "with open('output/q34.txt', 'w', encoding='utf8') as f:\n",
    "    f.write('\\n'.join(successive_nouns))"
   ]
  },
  {
   "cell_type": "markdown",
   "metadata": {},
   "source": [
    "## 35. 単語の出現頻度\n",
    "文章中に出現する単語とその出現頻度を求め，出現頻度の高い順に並べよ．"
   ]
  },
  {
   "cell_type": "code",
   "execution_count": 7,
   "metadata": {},
   "outputs": [
    {
     "name": "stdout",
     "output_type": "stream",
     "text": [
      "の 9194\n",
      "。 7486\n",
      "て 6868\n",
      "、 6772\n",
      "は 6420\n",
      "に 6243\n",
      "を 6071\n",
      "と 5508\n",
      "が 5337\n",
      "た 3988\n"
     ]
    }
   ],
   "source": [
    "def extract_words_frequency():\n",
    "    analyzed_results = load_analyzed_results()\n",
    "    words_counter = {}\n",
    "    for analyzed_sentence in analyzed_results:\n",
    "        for morpheme in analyzed_sentence:\n",
    "            if morpheme['surface'] in words_counter.keys():\n",
    "                words_counter[morpheme['surface']] += 1\n",
    "            else:\n",
    "                words_counter[morpheme['surface']] = 1\n",
    "    return sorted(words_counter.items(), key=lambda x: x[1], reverse=True)\n",
    "\n",
    "final_counter = extract_words_frequency()\n",
    "for k, v in final_counter[:10]:\n",
    "    print(k, v)\n",
    "\n",
    "# ファイル出力用にリスト内を整形してから、ファイル出力\n",
    "final_counter = ['{}\\t{}'.format(elm[0], elm[1]) for elm in final_counter]\n",
    "with open('output/q35.txt', 'w', encoding='utf8') as f:\n",
    "    f.write('\\n'.join(final_counter))"
   ]
  },
  {
   "cell_type": "markdown",
   "metadata": {},
   "source": [
    "## 36. 頻度上位10語\n",
    "出現頻度が高い10語とその出現頻度をグラフ（例えば棒グラフなど）で表示せよ．"
   ]
  },
  {
   "cell_type": "code",
   "execution_count": 8,
   "metadata": {},
   "outputs": [
    {
     "name": "stderr",
     "output_type": "stream",
     "text": [
      "findfont: Font family ['MigMix 1P'] not found. Falling back to DejaVu Sans.\n"
     ]
    },
    {
     "data": {
      "image/png": "[encoded data removed]",
      "text/plain": [
       "<Figure size 432x288 with 1 Axes>"
      ]
     },
     "metadata": {
      "needs_background": "light"
     },
     "output_type": "display_data"
    }
   ],
   "source": [
    "import numpy as np\n",
    "import matplotlib\n",
    "import matplotlib.pyplot as plt\n",
    "from matplotlib.font_manager import FontProperties\n",
    "\n",
    "top10_frequency_words = extract_words_frequency()[:10]\n",
    "x = [word[0] for word in top10_frequency_words] # 出現頻度が高い10語\n",
    "y = [word[1] for word in top10_frequency_words] # 各単語の出現頻度\n",
    "\n",
    "# Matplotlibで日本語を使うためのフォント設定\n",
    "font_path = '/usr/share/fonts/truetype/migmix/migmix-1p-regular.ttf'\n",
    "font_prop = FontProperties(fname=font_path)\n",
    "matplotlib.rcParams['font.family'] = font_prop.get_name()\n",
    "\n",
    "plt.bar(np.array(x), np.array(y), label='単語の出現頻度')\n",
    "plt.xticks(x, x, fontproperties=font_prop)\n",
    "plt.legend(prop=font_prop)\n",
    "plt.savefig('output/q36.png')"
   ]
  },
  {
   "cell_type": "markdown",
   "metadata": {},
   "source": [
    "## 37. 「猫」と共起頻度の高い上位10語\n",
    "「猫」とよく共起する（共起頻度が高い）10語とその出現頻度をグラフ（例えば棒グラフなど）で表示せよ．"
   ]
  },
  {
   "cell_type": "code",
   "execution_count": 9,
   "metadata": {},
   "outputs": [
    {
     "data": {
      "image/png": "[encoded data removed]",
      "text/plain": [
       "<Figure size 432x288 with 1 Axes>"
      ]
     },
     "metadata": {
      "needs_background": "light"
     },
     "output_type": "display_data"
    }
   ],
   "source": [
    "import numpy as np\n",
    "import matplotlib\n",
    "import matplotlib.pyplot as plt\n",
    "from matplotlib.font_manager import FontProperties\n",
    "\n",
    "def extract_co_occurrence_cat_frequency():\n",
    "    analyzed_results = load_analyzed_results()\n",
    "    co_occurrence_cat_counter = {}\n",
    "    for analyzed_sentence in analyzed_results:\n",
    "        if '猫' in [morpheme['surface'] for morpheme in analyzed_sentence]:\n",
    "            for morpheme in analyzed_sentence:\n",
    "                if morpheme['surface'] in co_occurrence_cat_counter.keys():\n",
    "                    co_occurrence_cat_counter[morpheme['surface']] += 1\n",
    "                else:\n",
    "                    co_occurrence_cat_counter[morpheme['surface']] = 1\n",
    "    del co_occurrence_cat_counter['猫']\n",
    "    return sorted(co_occurrence_cat_counter.items(), key=lambda x: x[1], reverse=True)\n",
    "\n",
    "top10_co_occurrence_frequency_cat = extract_co_occurrence_cat_frequency()[:10]\n",
    "x = [word[0] for word in top10_co_occurrence_frequency_cat] # 出現頻度が高い10語\n",
    "y = [word[1] for word in top10_co_occurrence_frequency_cat] # 各単語の出現頻度\n",
    "\n",
    "# Matplotlibで日本語を使うためのフォント設定\n",
    "font_path = '/usr/share/fonts/truetype/migmix/migmix-1p-regular.ttf'\n",
    "font_prop = FontProperties(fname=font_path)\n",
    "matplotlib.rcParams['font.family'] = font_prop.get_name()\n",
    "\n",
    "plt.bar(np.array(x), np.array(y), label='「猫」と共起頻度の高い上位10語')\n",
    "plt.xticks(x, x, fontproperties=font_prop)\n",
    "plt.legend(prop=font_prop)\n",
    "plt.savefig('output/q37.png')"
   ]
  },
  {
   "cell_type": "markdown",
   "metadata": {},
   "source": [
    "## 38. ヒストグラム\n",
    "単語の出現頻度のヒストグラムを描け．ただし，横軸は出現頻度を表し，1から単語の出現頻度の最大値までの線形目盛とする．縦軸はx軸で示される出現頻度となった単語の異なり数（種類数）である．"
   ]
  },
  {
   "cell_type": "code",
   "execution_count": 21,
   "metadata": {},
   "outputs": [
    {
     "data": {
      "image/png": "[encoded data removed]",
      "text/plain": [
       "<Figure size 432x288 with 1 Axes>"
      ]
     },
     "metadata": {
      "needs_background": "light"
     },
     "output_type": "display_data"
    }
   ],
   "source": [
    "import numpy as np\n",
    "import matplotlib\n",
    "import matplotlib.pyplot as plt\n",
    "from matplotlib.font_manager import FontProperties\n",
    "\n",
    "# Matplotlibで日本語を使うためのフォント設定\n",
    "font_path = '/usr/share/fonts/truetype/migmix/migmix-1p-regular.ttf'\n",
    "font_prop = FontProperties(fname=font_path)\n",
    "matplotlib.rcParams['font.family'] = font_prop.get_name()\n",
    "\n",
    "x = [word[1] for word in extract_words_frequency()]\n",
    "plt.hist(x)\n",
    "plt.xlabel('出現頻度', fontproperties=font_prop)\n",
    "plt.ylabel('単語の種類数', fontproperties=font_prop)\n",
    "plt.savefig('output/q38.png')"
   ]
  },
  {
   "cell_type": "markdown",
   "metadata": {},
   "source": [
    "## 39. Zipfの法則\n",
    "単語の出現頻度順位を横軸，その出現頻度を縦軸として，両対数グラフをプロットせよ．"
   ]
  },
  {
   "cell_type": "code",
   "execution_count": 27,
   "metadata": {},
   "outputs": [
    {
     "data": {
      "image/png": "[encoded data removed]",
      "text/plain": [
       "<Figure size 432x288 with 1 Axes>"
      ]
     },
     "metadata": {
      "needs_background": "light"
     },
     "output_type": "display_data"
    }
   ],
   "source": [
    "import numpy as np\n",
    "import matplotlib\n",
    "import matplotlib.pyplot as plt\n",
    "from matplotlib.font_manager import FontProperties\n",
    "\n",
    "# Matplotlibで日本語を使うためのフォント設定\n",
    "font_path = '/usr/share/fonts/truetype/migmix/migmix-1p-regular.ttf'\n",
    "font_prop = FontProperties(fname=font_path)\n",
    "matplotlib.rcParams['font.family'] = font_prop.get_name()\n",
    "\n",
    "occurrence_frequencies = [word[1] for word in extract_words_frequency()]\n",
    "ranks = range(1, len(occurrence_frequencies) + 1)\n",
    "\n",
    "plt.scatter(ranks, occurrence_frequencies)\n",
    "# x軸, y軸共にlogスケールに設定 -> 両対数グラフ\n",
    "ax = plt.gca()\n",
    "ax.set_xscale('log')\n",
    "ax.set_yscale('log')\n",
    "\n",
    "plt.xlabel('単語の出現頻度順位', fontproperties=font_prop)\n",
    "plt.ylabel('単語の出現頻度', fontproperties=font_prop)\n",
    "\n",
    "plt.savefig('output/q39.png')"
   ]
  },
  {
   "cell_type": "code",
   "execution_count": null,
   "metadata": {},
   "outputs": [],
   "source": []
  }
 ],
 "metadata": {
  "kernelspec": {
   "display_name": "Python 3",
   "language": "python",
   "name": "python3"
  },
  "language_info": {
   "codemirror_mode": {
    "name": "ipython",
    "version": 3
   },
   "file_extension": ".py",
   "mimetype": "text/x-python",
   "name": "python",
   "nbconvert_exporter": "python",
   "pygments_lexer": "ipython3",
   "version": "3.7.7"
  }
 },
 "nbformat": 4,
 "nbformat_minor": 4
}
