{
 "cells": [
  {
   "cell_type": "markdown",
   "metadata": {},
   "source": [
    "# 第2章: UNIXコマンド"
   ]
  },
  {
   "cell_type": "markdown",
   "metadata": {},
   "source": [
    "popular-names.txtは，アメリカで生まれた赤ちゃんの「名前」「性別」「人数」「年」をタブ区切り形式で格納したファイルである．以下の処理を行うプログラムを作成し，popular-names.txtを入力ファイルとして実行せよ．さらに，同様の処理をUNIXコマンドでも実行し，プログラムの実行結果を確認せよ"
   ]
  },
  {
   "cell_type": "markdown",
   "metadata": {},
   "source": [
    "## 10. 行数のカウント\n",
    "行数をカウントせよ．確認にはwcコマンドを用いよ．"
   ]
  },
  {
   "cell_type": "code",
   "execution_count": 2,
   "metadata": {},
   "outputs": [
    {
     "name": "stdout",
     "output_type": "stream",
     "text": [
      "2780\n"
     ]
    }
   ],
   "source": [
    "with open('popular-names.txt', 'r', encoding='utf8') as f:\n",
    "    print(len([1 for line in f]))"
   ]
  },
  {
   "cell_type": "code",
   "execution_count": 33,
   "metadata": {},
   "outputs": [
    {
     "name": "stdout",
     "output_type": "stream",
     "text": [
      "2780\n"
     ]
    }
   ],
   "source": [
    "!wc -l popular-names.txt | awk '{print $1}'"
   ]
  },
  {
   "cell_type": "markdown",
   "metadata": {},
   "source": [
    "## 11. タブをスペースに置換\n",
    "タブ1文字につきスペース1文字に置換せよ．確認にはsedコマンド，trコマンド，もしくはexpandコマンドを用いよ．"
   ]
  },
  {
   "cell_type": "code",
   "execution_count": 4,
   "metadata": {},
   "outputs": [],
   "source": [
    "replaced_text = ''\n",
    "with open('popular-names.txt', 'r', encoding='utf8') as f:\n",
    "    replaced_text = f.read().replace('\\t', ' ')\n",
    "\n",
    "with open('output_py/q11.txt', 'w', encoding='utf8') as f:\n",
    "    f.write(replaced_text)"
   ]
  },
  {
   "cell_type": "code",
   "execution_count": 5,
   "metadata": {},
   "outputs": [],
   "source": [
    "!sed -e 's/\\t/ /g' popular-names.txt > output/q11.txt"
   ]
  },
  {
   "cell_type": "markdown",
   "metadata": {},
   "source": [
    "## 12. 1列目をcol1.txtに，2列目をcol2.txtに保存\n",
    "各行の1列目だけを抜き出したものをcol1.txtに，2列目だけを抜き出したものをcol2.txtとしてファイルに保存せよ．確認にはcutコマンドを用いよ．"
   ]
  },
  {
   "cell_type": "code",
   "execution_count": 7,
   "metadata": {},
   "outputs": [],
   "source": [
    "col1 = []\n",
    "col2 = []\n",
    "with open('popular-names.txt', 'r', encoding='utf8') as f:\n",
    "    splitted_lines = [line.split('\\t') for line in f]\n",
    "    for splitted_line in splitted_lines:\n",
    "        col1.append(splitted_line[0])\n",
    "        col2.append(splitted_line[1])\n",
    "\n",
    "with open('output_py/q12_col1.txt', 'w', encoding='utf8') as f:\n",
    "    f.write('\\n'.join(col1))\n",
    "with open('output_py/q12_col2.txt', 'w', encoding='utf8') as f:\n",
    "    f.write('\\n'.join(col2))"
   ]
  },
  {
   "cell_type": "code",
   "execution_count": 8,
   "metadata": {},
   "outputs": [],
   "source": [
    "!cut -f 1 popular-names.txt > output/q12_col1.txt\n",
    "!cut -f 2 popular-names.txt > output/q12_col2.txt"
   ]
  },
  {
   "cell_type": "markdown",
   "metadata": {},
   "source": [
    "## 13. col1.txtとcol2.txtをマージ\n",
    "\n",
    "12で作ったcol1.txtとcol2.txtを結合し，元のファイルの1列目と2列目をタブ区切りで並べたテキストファイルを作成せよ．確認にはpasteコマンドを用いよ．"
   ]
  },
  {
   "cell_type": "code",
   "execution_count": 13,
   "metadata": {},
   "outputs": [],
   "source": [
    "with open('output_py/q12_col1.txt', 'r', encoding='utf8') as f:\n",
    "    col1_lines = [line for line in f] # 各要素の末尾に改行文字を含む\n",
    "with open('output_py/q12_col2.txt', 'r', encoding='utf8') as f:\n",
    "    col2_lines = [line for line in f] # 各要素の末尾に改行文字を含む\n",
    "\n",
    "merged_text_lines = [col1.rstrip('\\n') + '\\t' + col2 for col1, col2 in zip(col1_lines, col2_lines)]\n",
    "with open('output_py/q13.txt', 'w', encoding='utf8') as f:\n",
    "    f.writelines(merged_text_lines) # col2の改行文字だけ残し、writelinesで書き込み"
   ]
  },
  {
   "cell_type": "code",
   "execution_count": 14,
   "metadata": {},
   "outputs": [],
   "source": [
    "!paste output/q12_col1.txt output/q12_col2.txt > output/q13.txt"
   ]
  },
  {
   "cell_type": "markdown",
   "metadata": {},
   "source": [
    "## 14. 先頭からN行を出力\n",
    "自然数Nをコマンドライン引数などの手段で受け取り，入力のうち先頭のN行だけを表示せよ．確認にはheadコマンドを用いよ．"
   ]
  },
  {
   "cell_type": "code",
   "execution_count": 23,
   "metadata": {},
   "outputs": [
    {
     "name": "stdin",
     "output_type": "stream",
     "text": [
      "Input Natural number N ->  5\n"
     ]
    }
   ],
   "source": [
    "N = input('Input Natural number N -> ')\n",
    "with open('popular-names.txt', 'r', encoding='utf-8') as f:\n",
    "    N_lines = f.readlines()[:int(N):]\n",
    "with open('output_py/q14.txt', 'w', encoding='utf8') as f:\n",
    "    f.writelines(N_lines)"
   ]
  },
  {
   "cell_type": "code",
   "execution_count": 24,
   "metadata": {},
   "outputs": [],
   "source": [
    "# コマンドライン引数の場合 ... 5 -> $1\n",
    "!head -n 5 popular-names.txt > output/q14.txt"
   ]
  },
  {
   "cell_type": "markdown",
   "metadata": {},
   "source": [
    "## 15. 末尾のN行を出力\n",
    "自然数Nをコマンドライン引数などの手段で受け取り，入力のうち末尾のN行だけを表示せよ．確認にはtailコマンドを用いよ．"
   ]
  },
  {
   "cell_type": "code",
   "execution_count": 30,
   "metadata": {},
   "outputs": [
    {
     "name": "stdin",
     "output_type": "stream",
     "text": [
      "Input Natural number N ->  10\n"
     ]
    }
   ],
   "source": [
    "N = input('Input Natural number N -> ')\n",
    "with open('popular-names.txt', 'r', encoding='utf-8') as f:\n",
    "    N_lines = f.readlines()\n",
    "    N_lines = N_lines[len(N_lines)-int(N)::] # 末尾のN行を抽出\n",
    "with open('output_py/q15.txt', 'w', encoding='utf8') as f:\n",
    "    f.writelines(N_lines)"
   ]
  },
  {
   "cell_type": "code",
   "execution_count": 31,
   "metadata": {},
   "outputs": [],
   "source": [
    "# コマンドライン引数の場合 ... 10 -> $1\n",
    "!tail -n 10 popular-names.txt > output/q15.txt"
   ]
  },
  {
   "cell_type": "markdown",
   "metadata": {},
   "source": [
    "## 16. ファイルをN分割する\n",
    "自然数Nをコマンドライン引数などの手段で受け取り，入力のファイルを行単位でN分割せよ．同様の処理をsplitコマンドで実現せよ．"
   ]
  },
  {
   "cell_type": "code",
   "execution_count": 63,
   "metadata": {},
   "outputs": [
    {
     "name": "stdin",
     "output_type": "stream",
     "text": [
      "Input Natural number N ->  3\n"
     ]
    }
   ],
   "source": [
    "N = input('Input Natural number N -> ')\n",
    "with open('popular-names.txt', 'r', encoding='utf8') as f:\n",
    "    all_lines = [line for line in f]\n",
    "\n",
    "splitting_nums = len(all_lines) // int(N)\n",
    "i = 0\n",
    "while len(all_lines) - splitting_nums * i > 0:\n",
    "    with open('output_py/q16_{}.txt'.format(i), 'w', encoding='utf8') as f:\n",
    "        # 最後のループで、スライスの末尾の値が、元のリストの要素数を超える\n",
    "        # -> 自動的に、len(all_lines) - 1まで収めてくれる\n",
    "        f.writelines(all_lines[splitting_nums*i:splitting_nums*(i+1)])\n",
    "    i += 1"
   ]
  },
  {
   "cell_type": "code",
   "execution_count": 67,
   "metadata": {},
   "outputs": [
    {
     "name": "stdout",
     "output_type": "stream",
     "text": [
      "line_nums: ['2780']\n",
      "N: ['926']\n"
     ]
    }
   ],
   "source": [
    "# コマンドライン引数の場合 ... 3 -> $1\n",
    "line_nums = !wc -l popular-names.txt | awk '{print $1}'\n",
    "print(\"line_nums: {}\".format(line_nums))\n",
    "N = !expr {line_nums[0]} / 3\n",
    "print(\"N: {}\".format(N))\n",
    "!split -l {N[0]} -d popular-names.txt output/q16.txt"
   ]
  },
  {
   "cell_type": "markdown",
   "metadata": {},
   "source": [
    "## 17. １列目の文字列の異なり\n",
    "1列目の文字列の種類（異なる文字列の集合）を求めよ．確認にはcut, sort, uniqコマンドを用いよ．"
   ]
  },
  {
   "cell_type": "code",
   "execution_count": 78,
   "metadata": {},
   "outputs": [],
   "source": [
    "with open('popular-names.txt', 'r', encoding='utf8') as f:\n",
    "    col1_texts = [line.split('\\t')[0] for line in f]\n",
    "\n",
    "with open('output_py/q17.txt', 'w', encoding='utf8') as f:\n",
    "    # setで重複除去 -> sorted\n",
    "    f.write('\\n'.join(sorted(set(col1_texts))))"
   ]
  },
  {
   "cell_type": "code",
   "execution_count": 30,
   "metadata": {},
   "outputs": [],
   "source": [
    "!cut -f 1 popular-names.txt | sort | uniq > output/q17.txt"
   ]
  },
  {
   "cell_type": "markdown",
   "metadata": {},
   "source": [
    "## 18. 各行を3コラム目の数値の降順にソート\n",
    "各行を3コラム目の数値の逆順で整列せよ（注意: 各行の内容は変更せずに並び替えよ）．確認にはsortコマンドを用いよ（この問題はコマンドで実行した時の結果と合わなくてもよい）．"
   ]
  },
  {
   "cell_type": "code",
   "execution_count": 80,
   "metadata": {},
   "outputs": [],
   "source": [
    "with open('popular-names.txt', 'r', encoding='utf8') as f:\n",
    "    all_lines = [line for line in f]\n",
    "sorted_lines = sorted(all_lines, key=lambda x: int(x.split('\\t')[2]), reverse=True)\n",
    "\n",
    "with open('output_py/q18.txt', 'w', encoding='utf8') as f:\n",
    "    f.writelines(sorted_lines)"
   ]
  },
  {
   "cell_type": "code",
   "execution_count": 50,
   "metadata": {},
   "outputs": [],
   "source": [
    "# Ubuntu(dash)以外では、\"-t $'\\t'\"の書き方が使える\n",
    "!sort -r -k 3 -t \\t popular-names.txt > output/q18.txt"
   ]
  },
  {
   "cell_type": "markdown",
   "metadata": {},
   "source": [
    "## 19. 各行の1コラム目の文字列の出現頻度を求め，出現頻度の高い順に並べる\n",
    "各行の1列目の文字列の出現頻度を求め，その高い順に並べて表示せよ．確認にはcut, uniq, sortコマンドを用いよ．"
   ]
  },
  {
   "cell_type": "code",
   "execution_count": 84,
   "metadata": {},
   "outputs": [],
   "source": [
    "from collections import Counter\n",
    "\n",
    "with open('popular-names.txt', 'r', encoding='utf8') as f:\n",
    "    all_col1_texts = [line.split('\\t')[0] for line in f]\n",
    "\n",
    "counter = Counter(all_col1_texts)\n",
    "frequency_col1_texts = ['{}\\t{}\\n'.format(num, word) for word, num in counter.most_common()]\n",
    "with open('output_py/q19.txt', 'w', encoding='utf8') as f:\n",
    "    f.writelines(frequency_col1_texts)"
   ]
  },
  {
   "cell_type": "code",
   "execution_count": 89,
   "metadata": {},
   "outputs": [],
   "source": [
    "!cut -f 1 popular-names.txt | sort | uniq -c | sort -r -k 1 -t ' ' > output/q19.txt"
   ]
  }
 ],
 "metadata": {
  "kernelspec": {
   "display_name": "Python 3",
   "language": "python",
   "name": "python3"
  },
  "language_info": {
   "codemirror_mode": {
    "name": "ipython",
    "version": 3
   },
   "file_extension": ".py",
   "mimetype": "text/x-python",
   "name": "python",
   "nbconvert_exporter": "python",
   "pygments_lexer": "ipython3",
   "version": "3.7.7"
  }
 },
 "nbformat": 4,
 "nbformat_minor": 4
}
